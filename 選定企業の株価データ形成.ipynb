{
 "cells": [
  {
   "cell_type": "code",
   "execution_count": 1,
   "metadata": {
    "collapsed": true
   },
   "outputs": [],
   "source": [
    "import pandas as pd"
   ]
  },
  {
   "cell_type": "code",
   "execution_count": 5,
   "metadata": {
    "collapsed": true
   },
   "outputs": [],
   "source": [
    "import codecs"
   ]
  },
  {
   "cell_type": "code",
   "execution_count": 6,
   "metadata": {},
   "outputs": [],
   "source": [
    "with codecs.open('company_list.csv', \"r\", \"Shift-JIS\", \"ignore\") as file:\n",
    "    company = pd.read_table(file, delimiter=\",\")"
   ]
  },
  {
   "cell_type": "code",
   "execution_count": 7,
   "metadata": {},
   "outputs": [
    {
     "data": {
      "text/html": [
       "<div>\n",
       "<style>\n",
       "    .dataframe thead tr:only-child th {\n",
       "        text-align: right;\n",
       "    }\n",
       "\n",
       "    .dataframe thead th {\n",
       "        text-align: left;\n",
       "    }\n",
       "\n",
       "    .dataframe tbody tr th {\n",
       "        vertical-align: top;\n",
       "    }\n",
       "</style>\n",
       "<table border=\"1\" class=\"dataframe\">\n",
       "  <thead>\n",
       "    <tr style=\"text-align: right;\">\n",
       "      <th></th>\n",
       "      <th>証券コード</th>\n",
       "      <th>上場企業名</th>\n",
       "      <th>掲載企業(会社名欄に記載いただいた内容)</th>\n",
       "    </tr>\n",
       "  </thead>\n",
       "  <tbody>\n",
       "    <tr>\n",
       "      <th>0</th>\n",
       "      <td>5367</td>\n",
       "      <td>(株)ニッカトー</td>\n",
       "      <td>潟jッカトー</td>\n",
       "    </tr>\n",
       "    <tr>\n",
       "      <th>1</th>\n",
       "      <td>4543</td>\n",
       "      <td>テルモ(株)</td>\n",
       "      <td>テルモ梶@</td>\n",
       "    </tr>\n",
       "    <tr>\n",
       "      <th>2</th>\n",
       "      <td>3669</td>\n",
       "      <td>モバイルクリエイト(株)</td>\n",
       "      <td>モバイルクリエイト</td>\n",
       "    </tr>\n",
       "    <tr>\n",
       "      <th>3</th>\n",
       "      <td>8527</td>\n",
       "      <td>(株)愛知銀行</td>\n",
       "      <td>活､知銀行</td>\n",
       "    </tr>\n",
       "    <tr>\n",
       "      <th>4</th>\n",
       "      <td>6305</td>\n",
       "      <td>日立建機(株)</td>\n",
       "      <td>日立建機</td>\n",
       "    </tr>\n",
       "    <tr>\n",
       "      <th>5</th>\n",
       "      <td>5302</td>\n",
       "      <td>日本カーボン(株)</td>\n",
       "      <td>日本カーボン梶@</td>\n",
       "    </tr>\n",
       "    <tr>\n",
       "      <th>6</th>\n",
       "      <td>4186</td>\n",
       "      <td>東京応化工業(株)</td>\n",
       "      <td>東京応化工業梶@</td>\n",
       "    </tr>\n",
       "    <tr>\n",
       "      <th>7</th>\n",
       "      <td>2922</td>\n",
       "      <td>(株)なとり</td>\n",
       "      <td>鰍ﾈとり</td>\n",
       "    </tr>\n",
       "    <tr>\n",
       "      <th>8</th>\n",
       "      <td>6752</td>\n",
       "      <td>パナソニック(株)</td>\n",
       "      <td>パナソニック</td>\n",
       "    </tr>\n",
       "    <tr>\n",
       "      <th>9</th>\n",
       "      <td>8589</td>\n",
       "      <td>(株)アプラスフィナンシャル</td>\n",
       "      <td>潟Aプラスフィナンシャル、潟Aプラス、潟Aプラスパーソナルローン</td>\n",
       "    </tr>\n",
       "  </tbody>\n",
       "</table>\n",
       "</div>"
      ],
      "text/plain": [
       "   証券コード           上場企業名              掲載企業(会社名欄に記載いただいた内容)\n",
       "0   5367        (株)ニッカトー                            潟jッカトー\n",
       "1   4543          テルモ(株)                             テルモ梶@\n",
       "2   3669    モバイルクリエイト(株)                         モバイルクリエイト\n",
       "3   8527         (株)愛知銀行                             活､知銀行\n",
       "4   6305         日立建機(株)                              日立建機\n",
       "5   5302       日本カーボン(株)                          日本カーボン梶@\n",
       "6   4186       東京応化工業(株)                          東京応化工業梶@\n",
       "7   2922          (株)なとり                             鰍ﾈとり　\n",
       "8   6752       パナソニック(株)                            パナソニック\n",
       "9   8589  (株)アプラスフィナンシャル  潟Aプラスフィナンシャル、潟Aプラス、潟Aプラスパーソナルローン"
      ]
     },
     "execution_count": 7,
     "metadata": {},
     "output_type": "execute_result"
    }
   ],
   "source": [
    "company"
   ]
  },
  {
   "cell_type": "code",
   "execution_count": 10,
   "metadata": {},
   "outputs": [],
   "source": [
    "# 掲載企業カラムはいらないので消す\n",
    "company = company.drop('掲載企業(会社名欄に記載いただいた内容)', axis = 1)"
   ]
  },
  {
   "cell_type": "code",
   "execution_count": 11,
   "metadata": {},
   "outputs": [
    {
     "data": {
      "text/html": [
       "<div>\n",
       "<style>\n",
       "    .dataframe thead tr:only-child th {\n",
       "        text-align: right;\n",
       "    }\n",
       "\n",
       "    .dataframe thead th {\n",
       "        text-align: left;\n",
       "    }\n",
       "\n",
       "    .dataframe tbody tr th {\n",
       "        vertical-align: top;\n",
       "    }\n",
       "</style>\n",
       "<table border=\"1\" class=\"dataframe\">\n",
       "  <thead>\n",
       "    <tr style=\"text-align: right;\">\n",
       "      <th></th>\n",
       "      <th>証券コード</th>\n",
       "      <th>上場企業名</th>\n",
       "    </tr>\n",
       "  </thead>\n",
       "  <tbody>\n",
       "    <tr>\n",
       "      <th>0</th>\n",
       "      <td>5367</td>\n",
       "      <td>(株)ニッカトー</td>\n",
       "    </tr>\n",
       "    <tr>\n",
       "      <th>1</th>\n",
       "      <td>4543</td>\n",
       "      <td>テルモ(株)</td>\n",
       "    </tr>\n",
       "    <tr>\n",
       "      <th>2</th>\n",
       "      <td>3669</td>\n",
       "      <td>モバイルクリエイト(株)</td>\n",
       "    </tr>\n",
       "    <tr>\n",
       "      <th>3</th>\n",
       "      <td>8527</td>\n",
       "      <td>(株)愛知銀行</td>\n",
       "    </tr>\n",
       "    <tr>\n",
       "      <th>4</th>\n",
       "      <td>6305</td>\n",
       "      <td>日立建機(株)</td>\n",
       "    </tr>\n",
       "    <tr>\n",
       "      <th>5</th>\n",
       "      <td>5302</td>\n",
       "      <td>日本カーボン(株)</td>\n",
       "    </tr>\n",
       "    <tr>\n",
       "      <th>6</th>\n",
       "      <td>4186</td>\n",
       "      <td>東京応化工業(株)</td>\n",
       "    </tr>\n",
       "    <tr>\n",
       "      <th>7</th>\n",
       "      <td>2922</td>\n",
       "      <td>(株)なとり</td>\n",
       "    </tr>\n",
       "    <tr>\n",
       "      <th>8</th>\n",
       "      <td>6752</td>\n",
       "      <td>パナソニック(株)</td>\n",
       "    </tr>\n",
       "    <tr>\n",
       "      <th>9</th>\n",
       "      <td>8589</td>\n",
       "      <td>(株)アプラスフィナンシャル</td>\n",
       "    </tr>\n",
       "  </tbody>\n",
       "</table>\n",
       "</div>"
      ],
      "text/plain": [
       "   証券コード           上場企業名\n",
       "0   5367        (株)ニッカトー\n",
       "1   4543          テルモ(株)\n",
       "2   3669    モバイルクリエイト(株)\n",
       "3   8527         (株)愛知銀行\n",
       "4   6305         日立建機(株)\n",
       "5   5302       日本カーボン(株)\n",
       "6   4186       東京応化工業(株)\n",
       "7   2922          (株)なとり\n",
       "8   6752       パナソニック(株)\n",
       "9   8589  (株)アプラスフィナンシャル"
      ]
     },
     "execution_count": 11,
     "metadata": {},
     "output_type": "execute_result"
    }
   ],
   "source": [
    "company"
   ]
  },
  {
   "cell_type": "code",
   "execution_count": null,
   "metadata": {
    "collapsed": true
   },
   "outputs": [],
   "source": [
    "price = pd.DataFrame(columns = ['id', 'year', ''])"
   ]
  }
 ],
 "metadata": {
  "kernelspec": {
   "display_name": "Python 3",
   "language": "python",
   "name": "python3"
  },
  "language_info": {
   "codemirror_mode": {
    "name": "ipython",
    "version": 3
   },
   "file_extension": ".py",
   "mimetype": "text/x-python",
   "name": "python",
   "nbconvert_exporter": "python",
   "pygments_lexer": "ipython3",
   "version": "3.6.3"
  }
 },
 "nbformat": 4,
 "nbformat_minor": 2
}
